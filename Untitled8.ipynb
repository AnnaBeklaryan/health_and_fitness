{
 "cells": [
  {
   "cell_type": "code",
   "execution_count": 3,
   "id": "62fde70e-b0b3-4566-9006-369045c79718",
   "metadata": {},
   "outputs": [
    {
     "name": "stderr",
     "output_type": "stream",
     "text": [
      "C:\\Users\\User\\AppData\\Local\\Temp\\ipykernel_13976\\1471266299.py:27: FutureWarning: The behavior of DataFrame concatenation with empty or all-NA entries is deprecated. In a future version, this will no longer exclude empty or all-NA columns when determining the result dtypes. To retain the old behavior, exclude the relevant entries before the concat operation.\n",
      "  self.step_df = pd.concat([self.step_df, df_to_append])\n"
     ]
    },
    {
     "name": "stdout",
     "output_type": "stream",
     "text": [
      "User 1 Summary: \n",
      "  User Index Step Count  Calories Burned\n",
      "0          0         10              4.0\n",
      "\n",
      "User 2 Summary: \n",
      "  User Index Step Count  Calories Burned\n",
      "0          1         10              4.0\n"
     ]
    }
   ],
   "source": [
    "import time\n",
    "import pandas as pd\n",
    "\n",
    "\n",
    "class User:\n",
    "    def __init__(self, user_id):\n",
    "        self.user_id = user_id\n",
    "        self.step_count = 0\n",
    "        \n",
    "        self.step_df = pd.DataFrame(columns=[\"Step Count\", \"Calories Burned\"])\n",
    "        \n",
    "\n",
    "    def step_tracker(self, duration_in_seconds):\n",
    "        start_time = time.time()\n",
    "\n",
    "        while time.time() - start_time < duration_in_seconds:\n",
    "            self.step_count += 1\n",
    "            time.sleep(1)\n",
    "\n",
    "        total_calories_burned = self.step_count * 0.4\n",
    "\n",
    "        df_to_append = pd.DataFrame({\"Step Count\": [self.step_count], \"Calories Burned\": [total_calories_burned]})\n",
    "        self.step_df = pd.concat([self.step_df, df_to_append])\n",
    "\n",
    "    def get_summary(self):\n",
    "        return self.step_df\n",
    "\n",
    "user1 = User(user_id=1)\n",
    "user2 = User(user_id=2)\n",
    "\n",
    "user1.step_tracker(10)\n",
    "user2.step_tracker(10)\n",
    "\n",
    "\n",
    "summary_user1 = user1.get_summary()\n",
    "summary_user2 = user2.get_summary()\n",
    "\n",
    "print(\"User 1 Summary: \")\n",
    "print(summary_user1)\n",
    "\n",
    "print(\"\\nUser 2 Summary: \")\n",
    "print(summary_user2)\n"
   ]
  }
 ],
 "metadata": {
  "kernelspec": {
   "display_name": "Python 3 (ipykernel)",
   "language": "python",
   "name": "python3"
  },
  "language_info": {
   "codemirror_mode": {
    "name": "ipython",
    "version": 3
   },
   "file_extension": ".py",
   "mimetype": "text/x-python",
   "name": "python",
   "nbconvert_exporter": "python",
   "pygments_lexer": "ipython3",
   "version": "3.11.6"
  }
 },
 "nbformat": 4,
 "nbformat_minor": 5
}
